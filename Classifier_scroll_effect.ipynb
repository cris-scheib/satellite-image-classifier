{
 "cells": [
  {
   "cell_type": "code",
   "execution_count": 1,
   "id": "d468a525",
   "metadata": {},
   "outputs": [],
   "source": [
    "import pandas as pd\n",
    "import numpy as np\n",
    "import os"
   ]
  },
  {
   "cell_type": "code",
   "execution_count": 2,
   "id": "3dbb4074",
   "metadata": {},
   "outputs": [],
   "source": [
    "import torch\n",
    "from torch import nn\n",
    "from torch import optim\n",
    "import torch.nn.functional as F\n",
    "from torchvision import datasets, transforms, models\n",
    "device = torch.device('cuda' if torch.cuda.is_available() else 'cpu')"
   ]
  },
  {
   "cell_type": "code",
   "execution_count": 3,
   "id": "44da401b",
   "metadata": {},
   "outputs": [],
   "source": [
    "import tkinter\n",
    "from tkinter import *\n",
    "import time\n",
    "import PIL.Image, PIL.ImageTk"
   ]
  },
  {
   "cell_type": "code",
   "execution_count": 4,
   "id": "0a79165b",
   "metadata": {},
   "outputs": [],
   "source": [
    "unique_labels = [\n",
    "    'agriculture', \n",
    "    'artisinal_mine', \n",
    "    'bare_ground', \n",
    "    'blooming', \n",
    "    'blow_down', \n",
    "    'clear', \n",
    "    'cloudy', \n",
    "    'conventional_mine', \n",
    "    'cultivation', \n",
    "    'habitation', \n",
    "    'haze', \n",
    "    'partly_cloudy', \n",
    "    'primary', \n",
    "    'road', \n",
    "    'selective_logging', \n",
    "    'slash_burn', \n",
    "    'water'\n",
    "]"
   ]
  },
  {
   "cell_type": "code",
   "execution_count": 5,
   "id": "e3a5fdb4",
   "metadata": {},
   "outputs": [],
   "source": [
    "def oneHotEncode(labels_list):\n",
    "    onehot = [];\n",
    "    for label in unique_labels: \n",
    "        onehot.append(int(label in labels_list))\n",
    "    return onehot    \n",
    "\n",
    "def oneHotDecode(labels_list):\n",
    "    labels = []\n",
    "    for i, probability in enumerate(labels_list):\n",
    "        if probability.item() > 0.7:\n",
    "            labels.append(unique_labels[i])\n",
    "    return labels"
   ]
  },
  {
   "cell_type": "code",
   "execution_count": 6,
   "id": "3d33c4de",
   "metadata": {},
   "outputs": [
    {
     "name": "stderr",
     "output_type": "stream",
     "text": [
      "/home/cristine/.local/lib/python3.10/site-packages/torch/nn/_reduction.py:42: UserWarning: size_average and reduce args will be deprecated, please use reduction='mean' instead.\n",
      "  warnings.warn(warning.format(ret))\n"
     ]
    }
   ],
   "source": [
    "import torch.nn as nn\n",
    "import torch.nn.functional as F\n",
    "import torch.optim as optim\n",
    "device = torch.device(\"cuda:0\" if torch.cuda.is_available() else \"cpu\")\n",
    "class Model(nn.Module):\n",
    "    def __init__(self):\n",
    "        super().__init__()\n",
    "        self.pool = nn.MaxPool2d(2, 2)\n",
    "        self.conv1 = nn.Conv2d(in_channels=3, out_channels=32, kernel_size=2, stride=1, padding='same')\n",
    "        self.conv2 = nn.Conv2d(in_channels=32, out_channels=64, kernel_size=2, stride=1, padding='same')\n",
    "        self.conv3 = nn.Conv2d(in_channels=64, out_channels=128, kernel_size=2, stride=1, padding='same')\n",
    "        self.conv4 = nn.Conv2d(in_channels=128, out_channels=256, kernel_size=2, stride=1, padding='same')\n",
    "        self.fc1 = nn.Linear(256 * 8 * 8, 1000)\n",
    "        self.fc2 = nn.Linear(1000, 500)\n",
    "        self.fc3 = nn.Linear(500, len(unique_labels))\n",
    "    def forward(self, x):\n",
    "        x = self.pool(F.relu(self.conv1(x)))\n",
    "        x = self.pool(F.relu(self.conv2(x)))\n",
    "        x = self.pool(F.relu(self.conv3(x)))\n",
    "        x = self.pool(F.relu(self.conv4(x)))\n",
    "        x = torch.flatten(x, 1) # flatten all dimensions except batch\n",
    "        x = F.relu(self.fc1(x))\n",
    "        x = F.relu(self.fc2(x))\n",
    "        x = self.fc3(x)\n",
    "        return x\n",
    "\n",
    "model = Model()\n",
    "model.to(device)\n",
    "\n",
    "criterion = nn.BCEWithLogitsLoss (weight=None, reduce=True)\n",
    "optimizer = optim.SGD(model.parameters(), lr=0.001, momentum=0.9)"
   ]
  },
  {
   "cell_type": "code",
   "execution_count": 7,
   "id": "0e5aca43",
   "metadata": {},
   "outputs": [
    {
     "data": {
      "text/plain": [
       "Model(\n",
       "  (pool): MaxPool2d(kernel_size=2, stride=2, padding=0, dilation=1, ceil_mode=False)\n",
       "  (conv1): Conv2d(3, 32, kernel_size=(2, 2), stride=(1, 1), padding=same)\n",
       "  (conv2): Conv2d(32, 64, kernel_size=(2, 2), stride=(1, 1), padding=same)\n",
       "  (conv3): Conv2d(64, 128, kernel_size=(2, 2), stride=(1, 1), padding=same)\n",
       "  (conv4): Conv2d(128, 256, kernel_size=(2, 2), stride=(1, 1), padding=same)\n",
       "  (fc1): Linear(in_features=16384, out_features=1000, bias=True)\n",
       "  (fc2): Linear(in_features=1000, out_features=500, bias=True)\n",
       "  (fc3): Linear(in_features=500, out_features=17, bias=True)\n",
       ")"
      ]
     },
     "execution_count": 7,
     "metadata": {},
     "output_type": "execute_result"
    }
   ],
   "source": [
    "model = Model()\n",
    "model.load_state_dict(torch.load('model/tensor.pth'))\n",
    "model.to(device)\n",
    "model.eval()"
   ]
  },
  {
   "cell_type": "code",
   "execution_count": 8,
   "id": "8c610423",
   "metadata": {},
   "outputs": [],
   "source": [
    "def predict(image):\n",
    "    \n",
    "    transform = transforms.Compose(\n",
    "        [\n",
    "            transforms.Resize((128, 128)),\n",
    "            transforms.RandomHorizontalFlip(p=0.5),\n",
    "            transforms.RandomRotation(degrees=45),\n",
    "            transforms.ToTensor(),\n",
    "            transforms.Normalize((0.5, 0.5, 0.5), (0.5, 0.5, 0.5)),\n",
    "        ]\n",
    "    )\n",
    "\n",
    "    # Convert to tensor\n",
    "    inputs = transform(image).to('cuda').unsqueeze(0)\n",
    "    \n",
    "    #predict \n",
    "    outputs = model(inputs)\n",
    "    outputs = torch.sigmoid(outputs)\n",
    "    return oneHotDecode(outputs[0])\n"
   ]
  },
  {
   "cell_type": "code",
   "execution_count": null,
   "id": "2f278c21",
   "metadata": {},
   "outputs": [],
   "source": [
    "#prediction = predict('/home/cristine/Imagens/mato_grosso_tes.jpg')\n",
    "#print(prediction)"
   ]
  },
  {
   "cell_type": "code",
   "execution_count": 9,
   "id": "3206eff7",
   "metadata": {},
   "outputs": [],
   "source": [
    "def returnLeftRight(x, width):\n",
    "    x = 250 if x < 250 else ((width - 250) if (x + 250 > width) else x)\n",
    "    left = x - 250\n",
    "    right = x + 250\n",
    "    return left, right\n",
    "\n",
    "def returnTopBottom(y, height):\n",
    "    y = 250 if y < 250 else ((height - 250) if (y + 250 > height) else y)\n",
    "    top = y - 250\n",
    "    bottom = y + 250\n",
    "    return top, bottom\n",
    "\n",
    "def crop_image(x, y):\n",
    "    im = PIL.Image.open(\"/home/cristine/Imagens/mato_grosso.jpg\")\n",
    "    \n",
    "    width, height = im.size\n",
    "    left, right = returnLeftRight(x, width)\n",
    "    top, bottom = returnTopBottom(y, height) \n",
    "    im1 = im.crop((left, top, right, bottom))\n",
    "    return im1\n",
    "\n"
   ]
  },
  {
   "cell_type": "code",
   "execution_count": null,
   "id": "e04d5817",
   "metadata": {},
   "outputs": [],
   "source": [
    "# Create a window\n",
    "window = tkinter.Tk()\n",
    "window.geometry('1000x600')\n",
    "window.maxsize(1000, 600)\n",
    "\n",
    "frame = tkinter.Frame(window, relief='raised') # relief=SUNKEN)\n",
    "frame.grid_rowconfigure(0, weight=1)\n",
    "frame.grid_columnconfigure(0, weight=1)\n",
    "\n",
    "xscrollbar = tkinter.Scrollbar(frame, orient=tkinter.HORIZONTAL)\n",
    "xscrollbar.grid(row=1, column=0, sticky=tkinter.E+tkinter.W)\n",
    "\n",
    "yscrollbar = tkinter.Scrollbar(frame)\n",
    "yscrollbar.grid(row=0, column=1, sticky=tkinter.N+tkinter.S)\n",
    "\n",
    "canvas = tkinter.Canvas(frame, bd=0, xscrollcommand=xscrollbar.set, yscrollcommand=yscrollbar.set, \n",
    "                        width=1000, height=600)\n",
    "canvas.grid(row=0, column=0, sticky=tkinter.N+tkinter.S+tkinter.E+tkinter.W)\n",
    "\n",
    "File = \"/home/cristine/Imagens/mato_grosso.jpg\"\n",
    "img = PIL.ImageTk.PhotoImage(PIL.Image.open(File))\n",
    "\n",
    "canvas.create_image(0,0,image=img, anchor=\"nw\")\n",
    "canvas.config(scrollregion=canvas.bbox(tkinter.ALL))\n",
    "\n",
    "xscrollbar.config(command=canvas.xview)\n",
    "yscrollbar.config(command=canvas.yview)\n",
    "\n",
    "def on_button_pressed(event):\n",
    "    canvas = event.widget\n",
    "    x = canvas.canvasx(event.x)\n",
    "    y = canvas.canvasy(event.y)\n",
    "    cropped_image = crop_image(x, y)\n",
    "    prediction = predict(cropped_image)\n",
    "    label.config(text=\", \".join(prediction))\n",
    "\n",
    "canvas.bind(\"<Button-1>\", on_button_pressed)\n",
    "\n",
    "\n",
    "label = Label(\n",
    "    window,\n",
    "    text=\"\",\n",
    "    font=(21),\n",
    "    padx=10,\n",
    "    pady=5,\n",
    "    bg='#d9d8d7'\n",
    "    )\n",
    "\n",
    "label.pack(expand=True)\n",
    "frame.pack()\n",
    "window.update()\n",
    "\n",
    "\n",
    "while True:\n",
    "    window.update()"
   ]
  },
  {
   "cell_type": "code",
   "execution_count": null,
   "id": "736f96c4",
   "metadata": {},
   "outputs": [],
   "source": []
  }
 ],
 "metadata": {
  "kernelspec": {
   "display_name": "Python 3 (ipykernel)",
   "language": "python",
   "name": "python3"
  },
  "language_info": {
   "codemirror_mode": {
    "name": "ipython",
    "version": 3
   },
   "file_extension": ".py",
   "mimetype": "text/x-python",
   "name": "python",
   "nbconvert_exporter": "python",
   "pygments_lexer": "ipython3",
   "version": "3.10.12"
  }
 },
 "nbformat": 4,
 "nbformat_minor": 5
}
