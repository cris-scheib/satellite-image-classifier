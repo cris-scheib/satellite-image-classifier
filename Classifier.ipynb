{
 "cells": [
  {
   "cell_type": "code",
   "execution_count": 1,
   "id": "d468a525",
   "metadata": {},
   "outputs": [],
   "source": [
    "import pandas as pd\n",
    "import numpy as np\n",
    "import os"
   ]
  },
  {
   "cell_type": "code",
   "execution_count": 2,
   "id": "b4a69bc5",
   "metadata": {},
   "outputs": [],
   "source": [
    "images_dir = 'data/images/'\n",
    "csv_file = 'data/data.csv'"
   ]
  },
  {
   "cell_type": "code",
   "execution_count": 3,
   "id": "4d74dd26",
   "metadata": {},
   "outputs": [],
   "source": [
    "data = pd.read_csv(csv_file)\n",
    "data['image_name'] = data['image_name'].astype(str) + '.jpg'\n",
    "data['tags'] = data['tags'].apply(lambda x: x.split(' '))"
   ]
  },
  {
   "cell_type": "code",
   "execution_count": 4,
   "id": "8a24b72f",
   "metadata": {},
   "outputs": [],
   "source": [
    "def validConsistentData():\n",
    "    for index, row in data.iterrows():\n",
    "        src_path = images_dir\n",
    "        if not os.path.exists(src_path + row['image_name']):\n",
    "            print(src_path + image_name)"
   ]
  },
  {
   "cell_type": "code",
   "execution_count": 5,
   "id": "35a5f682",
   "metadata": {},
   "outputs": [],
   "source": [
    "unique_labels = []\n",
    "count_labels = 0\n",
    "for tags in data['tags'].values:\n",
    "    for tag in tags:\n",
    "        if tag not in unique_labels:\n",
    "            unique_labels.append(tag)\n",
    "            count_labels+=1\n",
    "unique_labels.sort()"
   ]
  },
  {
   "cell_type": "code",
   "execution_count": 6,
   "id": "ba22b3e4",
   "metadata": {},
   "outputs": [
    {
     "data": {
      "image/png": "[encoded data removed]",
      "text/plain": [
       "<Figure size 1080x360 with 1 Axes>"
      ]
     },
     "metadata": {
      "needs_background": "light"
     },
     "output_type": "display_data"
    }
   ],
   "source": [
    "import matplotlib.pyplot as plt\n",
    "\n",
    "# Dicionário para contagem de imagens por label\n",
    "labels_count = {}\n",
    "\n",
    "# Loop\n",
    "for tag in data['tags'].values:\n",
    "    for label in tag:\n",
    "        if label in labels_count:\n",
    "            labels_count[label] += 1\n",
    "        else:\n",
    "            labels_count[label] = 0\n",
    "            \n",
    "min_label = min(labels_count, key = labels_count.get)\n",
    "max_label = max(labels_count, key = labels_count.get)\n",
    "\n",
    "plt.figure(figsize = (15, 5))\n",
    "\n",
    "# Plot\n",
    "plt.bar(range(len(labels_count)), list(labels_count.values()), align = 'center', color = 'blue')\n",
    "plt.xticks(range(len(labels_count)), list(labels_count.keys()), rotation = 30)\n",
    "plt.show()"
   ]
  },
  {
   "cell_type": "code",
   "execution_count": 7,
   "id": "3dbb4074",
   "metadata": {},
   "outputs": [],
   "source": [
    "import torch\n",
    "from torch import nn\n",
    "from torch import optim\n",
    "import torch.nn.functional as F\n",
    "from torchvision import datasets, transforms, models"
   ]
  },
  {
   "cell_type": "code",
   "execution_count": 86,
   "id": "e3a5fdb4",
   "metadata": {},
   "outputs": [],
   "source": [
    "def oneHotEncode(labels_list):\n",
    "    onehot = [];\n",
    "    for label in unique_labels: \n",
    "        onehot.append(int(label in labels_list))\n",
    "    return onehot    \n",
    "\n",
    "def oneHotDecode(labels_list):\n",
    "    labels = []\n",
    "    for i, probability in enumerate(labels_list):\n",
    "        if probability.item() > 0.7:\n",
    "            labels.append(unique_labels[i])\n",
    "    return labels"
   ]
  },
  {
   "cell_type": "code",
   "execution_count": 9,
   "id": "3d33c4de",
   "metadata": {},
   "outputs": [
    {
     "name": "stderr",
     "output_type": "stream",
     "text": [
      "/home/cristine/.local/lib/python3.8/site-packages/torch/nn/_reduction.py:42: UserWarning: size_average and reduce args will be deprecated, please use reduction='mean' instead.\n",
      "  warnings.warn(warning.format(ret))\n"
     ]
    }
   ],
   "source": [
    "import torch.nn as nn\n",
    "import torch.nn.functional as F\n",
    "import torch.optim as optim\n",
    "\n",
    "class Model(nn.Module):\n",
    "    def __init__(self):\n",
    "        super().__init__()\n",
    "        self.pool = nn.MaxPool2d(2, 2)\n",
    "        self.conv1 = nn.Conv2d(in_channels=3, out_channels=32, kernel_size=2, stride=1, padding='same')\n",
    "        self.conv2 = nn.Conv2d(in_channels=32, out_channels=64, kernel_size=2, stride=1, padding='same')\n",
    "        self.conv3 = nn.Conv2d(in_channels=64, out_channels=128, kernel_size=2, stride=1, padding='same')\n",
    "        self.fc1 = nn.Linear(128 * 8 * 8, 1000)\n",
    "        self.fc2 = nn.Linear(1000, 500)\n",
    "        self.fc3 = nn.Linear(500, count_labels)\n",
    "\n",
    "    def forward(self, x):\n",
    "        x = self.pool(F.relu(self.conv1(x)))\n",
    "        x = self.pool(F.relu(self.conv2(x)))\n",
    "        x = self.pool(F.relu(self.conv3(x)))\n",
    "        x = torch.flatten(x, 1) # flatten all dimensions except batch\n",
    "        x = F.relu(self.fc1(x))\n",
    "        x = F.relu(self.fc2(x))\n",
    "        x = self.fc3(x)\n",
    "        return x\n",
    "\n",
    "model = Model()\n",
    "\n",
    "criterion = nn.BCEWithLogitsLoss (weight=None, reduce=True)\n",
    "optimizer = optim.SGD(model.parameters(), lr=0.001, momentum=0.9)"
   ]
  },
  {
   "cell_type": "code",
   "execution_count": 48,
   "id": "17f42027",
   "metadata": {},
   "outputs": [],
   "source": [
    "import cv2\n",
    "from PIL import Image\n",
    "from skimage import io\n",
    "from torch.utils.data import Dataset\n",
    "class CustomDataset(Dataset):\n",
    "    def __init__(self, csv_file, images_dir, unique_labels, transform, step):\n",
    "        self.data = pd.read_csv(csv_file)\n",
    "        self.images_dir = images_dir\n",
    "        self.all_image_names = self.data[:]['image_name'] + '.jpg'\n",
    "        self.labels = self.data[:]['tags']\n",
    "        self.unique_labels = unique_labels\n",
    "        self.transform = transform\n",
    "        self.train_ratio = int(0.8 * len(self.data))\n",
    "        self.valid_ratio = len(self.data) - self.train_ratio\n",
    "        self.step = step\n",
    "        \n",
    "        if self.step == 'train':\n",
    "            print(f\"Number of training images: {self.train_ratio}\")\n",
    "            self.image_names = list(self.all_image_names[:self.train_ratio])\n",
    "            self.labels = list(self.labels[:self.train_ratio])\n",
    "            \n",
    "        elif self.step == 'validation':\n",
    "            print(f\"Number of validation images: {self.valid_ratio}\")\n",
    "            self.image_names = list(self.all_image_names[-self.valid_ratio:-10])\n",
    "            self.labels = list(self.labels[-self.valid_ratio:])\n",
    "\n",
    "        elif self.step == 'test':\n",
    "            self.image_names = list(self.all_image_names[-10:])\n",
    "            self.labels = list(self.labels[-10:])\n",
    "        \n",
    "    def __len__(self):\n",
    "        return len(self.image_names)\n",
    "        \n",
    "    def __getitem__(self, index):\n",
    "        image = Image.open(os.path.join(self.images_dir + self.image_names[index])).convert(\"RGB\")\n",
    "        targets = torch.tensor(oneHotEncode(self.labels[index]), dtype=torch.float32)\n",
    "        data = self.transform(image)\n",
    "        image = self.images_dir + self.image_names[index]\n",
    "        return (data, targets, image)"
   ]
  },
  {
   "cell_type": "code",
   "execution_count": 42,
   "id": "3dc5c9cd",
   "metadata": {},
   "outputs": [
    {
     "name": "stdout",
     "output_type": "stream",
     "text": [
      "Number of training images: 32383\n",
      "Number of validation images: 8096\n"
     ]
    }
   ],
   "source": [
    "from torch.utils.data import DataLoader\n",
    "\n",
    "transform = transforms.Compose(\n",
    "        [\n",
    "            transforms.Resize((64, 64)),\n",
    "            transforms.RandomHorizontalFlip(p=0.5),\n",
    "            transforms.RandomRotation(degrees=45),\n",
    "            transforms.ToTensor(),\n",
    "            transforms.Normalize((0.5, 0.5, 0.5), (0.5, 0.5, 0.5)),\n",
    "        ]\n",
    "    )\n",
    "#train dataset\n",
    "data_train = CustomDataset(\n",
    "    csv_file=csv_file, images_dir=images_dir, unique_labels=unique_labels, \n",
    "    transform = transform, step='train'\n",
    ")\n",
    "# validation dataset\n",
    "data_valid = CustomDataset(\n",
    "   csv_file=csv_file, images_dir=images_dir, unique_labels=unique_labels, \n",
    "    transform = transform, step='validation'\n",
    ")\n",
    "# test dataset\n",
    "data_test = CustomDataset(\n",
    "   csv_file=csv_file, images_dir=images_dir, unique_labels=unique_labels, \n",
    "    transform = transform, step='test'\n",
    ")\n",
    "# train data loader\n",
    "train_loader = DataLoader(\n",
    "    data_train, \n",
    "    batch_size=30,\n",
    "    shuffle=True\n",
    ")\n",
    "# validation data loader\n",
    "valid_loader = DataLoader(\n",
    "    data_valid, \n",
    "    batch_size=30,\n",
    "    shuffle=False\n",
    ")\n",
    "# test data loader\n",
    "test_loader = DataLoader(\n",
    "    data_test, \n",
    "    batch_size=1,\n",
    "    shuffle=False\n",
    ")"
   ]
  },
  {
   "cell_type": "code",
   "execution_count": 43,
   "id": "3bfa7421",
   "metadata": {},
   "outputs": [],
   "source": [
    "def train(train_loader):\n",
    "    train_loss = 0.0\n",
    "    batch = 0\n",
    "    for i, data in enumerate(train_loader, 0):\n",
    "        # get the inputs; data is a list of [inputs, labels]\n",
    "        inputs, labels, image = data\n",
    "\n",
    "        # zero the parameter gradients\n",
    "        optimizer.zero_grad()\n",
    "\n",
    "        # forward + backward + optimize\n",
    "        outputs = model(inputs)\n",
    "        loss = criterion(outputs, labels)\n",
    "        loss.backward()\n",
    "        optimizer.step()\n",
    "\n",
    "        # print statistics\n",
    "        train_loss += loss.item()\n",
    "        batch += 1\n",
    "    return train_loss / batch"
   ]
  },
  {
   "cell_type": "code",
   "execution_count": 44,
   "id": "d6d13edf",
   "metadata": {},
   "outputs": [],
   "source": [
    "def validate(valid_loader):\n",
    "    valid_loss = 0.0\n",
    "    batch = 0\n",
    "    with torch.no_grad():\n",
    "        for i, data in enumerate(valid_loader, 0):\n",
    "            # get the inputs; data is a list of [inputs, labels]\n",
    "            inputs, labels, image = data\n",
    "\n",
    "            # forward + backward + optimize\n",
    "            outputs = model(inputs)\n",
    "            loss = criterion(outputs, labels)\n",
    "\n",
    "            # print statistics\n",
    "            valid_loss += loss.item()\n",
    "            batch += 1\n",
    "    return valid_loss / batch"
   ]
  },
  {
   "cell_type": "code",
   "execution_count": 15,
   "id": "1e7748bb",
   "metadata": {},
   "outputs": [
    {
     "name": "stderr",
     "output_type": "stream",
     "text": [
      "/home/cristine/.local/lib/python3.8/site-packages/torch/nn/modules/conv.py:439: UserWarning: Using padding='same' with even kernel lengths and odd dilation may require a zero-padded copy of the input be created (Triggered internally at  ../aten/src/ATen/native/Convolution.cpp:660.)\n",
      "  return F.conv2d(input, weight, bias, self.stride,\n"
     ]
    },
    {
     "name": "stdout",
     "output_type": "stream",
     "text": [
      "Finished Training\n"
     ]
    }
   ],
   "source": [
    "train_error = []\n",
    "valid_error = []\n",
    "time = []\n",
    "for epoch in range(2):  # loop over the dataset multiple times       \n",
    "    time.append(epoch + 1)       \n",
    "    train_error.append(train(train_loader))\n",
    "    valid_error.append(validate(valid_loader))\n",
    "print('Finished Training')"
   ]
  },
  {
   "cell_type": "code",
   "execution_count": 16,
   "id": "3cd4e28e",
   "metadata": {},
   "outputs": [
    {
     "data": {
      "image/png": "[encoded data removed]",
      "text/plain": [
       "<Figure size 432x288 with 1 Axes>"
      ]
     },
     "metadata": {
      "needs_background": "light"
     },
     "output_type": "display_data"
    }
   ],
   "source": [
    "plt.plot(np.array(time), np.array(train_error))\n",
    "plt.xlabel(\"Epoch\")\n",
    "plt.ylabel(\"Training Error\")\n",
    "plt.show()"
   ]
  },
  {
   "cell_type": "code",
   "execution_count": 17,
   "id": "f32a51c1",
   "metadata": {},
   "outputs": [
    {
     "data": {
      "image/png": "[encoded data removed]",
      "text/plain": [
       "<Figure size 432x288 with 1 Axes>"
      ]
     },
     "metadata": {
      "needs_background": "light"
     },
     "output_type": "display_data"
    }
   ],
   "source": [
    "plt.plot(np.array(time), np.array(valid_error))\n",
    "plt.xlabel(\"Epoch\")\n",
    "plt.ylabel(\"Validation Error\")\n",
    "plt.show()"
   ]
  },
  {
   "cell_type": "code",
   "execution_count": 26,
   "id": "fc0445c7",
   "metadata": {},
   "outputs": [],
   "source": [
    "torch.save(model.state_dict(), 'model/tensor.pth')"
   ]
  },
  {
   "cell_type": "code",
   "execution_count": 29,
   "id": "0e5aca43",
   "metadata": {},
   "outputs": [
    {
     "data": {
      "text/plain": [
       "Model(\n",
       "  (pool): MaxPool2d(kernel_size=2, stride=2, padding=0, dilation=1, ceil_mode=False)\n",
       "  (conv1): Conv2d(3, 32, kernel_size=(2, 2), stride=(1, 1), padding=same)\n",
       "  (conv2): Conv2d(32, 64, kernel_size=(2, 2), stride=(1, 1), padding=same)\n",
       "  (conv3): Conv2d(64, 128, kernel_size=(2, 2), stride=(1, 1), padding=same)\n",
       "  (fc1): Linear(in_features=8192, out_features=1000, bias=True)\n",
       "  (fc2): Linear(in_features=1000, out_features=500, bias=True)\n",
       "  (fc3): Linear(in_features=500, out_features=17, bias=True)\n",
       ")"
      ]
     },
     "execution_count": 29,
     "metadata": {},
     "output_type": "execute_result"
    }
   ],
   "source": [
    "device = torch.device(\"cuda\")\n",
    "model = Model()\n",
    "model.load_state_dict(torch.load('model/tensor.pth'))\n",
    "model.to(device)"
   ]
  },
  {
   "cell_type": "code",
   "execution_count": 118,
   "id": "16678597",
   "metadata": {},
   "outputs": [
    {
     "name": "stdout",
     "output_type": "stream",
     "text": [
      "[[[255 255 255]\n",
      "  [255 255 255]\n",
      "  [255 255 255]\n",
      "  ...\n",
      "  [255 255 255]\n",
      "  [255 255 255]\n",
      "  [255 255 255]]\n",
      "\n",
      " [[255 255 255]\n",
      "  [255 255 255]\n",
      "  [255 255 255]\n",
      "  ...\n",
      "  [255 255 255]\n",
      "  [255 255 255]\n",
      "  [255 255 255]]\n",
      "\n",
      " [[255 255 255]\n",
      "  [255 255 255]\n",
      "  [255 255 255]\n",
      "  ...\n",
      "  [255 255 255]\n",
      "  [255 255 255]\n",
      "  [255 255 255]]\n",
      "\n",
      " ...\n",
      "\n",
      " [[255 255 255]\n",
      "  [255 255 255]\n",
      "  [255 255 255]\n",
      "  ...\n",
      "  [255 255 255]\n",
      "  [255 255 255]\n",
      "  [255 255 255]]\n",
      "\n",
      " [[255 255 255]\n",
      "  [255 255 255]\n",
      "  [255 255 255]\n",
      "  ...\n",
      "  [255 255 255]\n",
      "  [255 255 255]\n",
      "  [255 255 255]]\n",
      "\n",
      " [[255 255 255]\n",
      "  [255 255 255]\n",
      "  [255 255 255]\n",
      "  ...\n",
      "  [255 255 255]\n",
      "  [255 255 255]\n",
      "  [255 255 255]]]\n"
     ]
    },
    {
     "data": {
      "image/png": "[encoded data removed]",
      "text/plain": [
       "<Figure size 432x288 with 1 Axes>"
      ]
     },
     "metadata": {
      "needs_background": "light"
     },
     "output_type": "display_data"
    }
   ],
   "source": [
    "import matplotlib.image as mpimg\n",
    "\n",
    "for i, data in enumerate(test_loader, 0):\n",
    "        # get the inputs; data is a list of [inputs, labels]\n",
    "        inputs, labels, image = data\n",
    "        outputs = model(inputs)\n",
    "        outputs = torch.sigmoid(outputs)\n",
    "        \n",
    "        string_actual = oneHotDecode(labels[0])\n",
    "        string_predicted = oneHotDecode(outputs[0])\n",
    "        \n",
    "        \n",
    "        inputs = inputs.squeeze(0)\n",
    "        inputs = inputs.detach().cpu().numpy()\n",
    "        inputs = np.transpose(inputs, (1, 2, 0))\n",
    "    \n",
    "      \n",
    "        #img = mpimg.imread(image[0])\n",
    "        #plt.figure(figsize = (15, 5))\n",
    "        #plt.title(f\"PREDICTED: {string_predicted}\\nACTUAL: {string_actual}\")\n",
    "        #plt.axis('off')\n",
    "        #plt.imshow(img)\n",
    "    \n",
    "        img = mpimg.imread(image[0])\n",
    "        print(img)\n",
    "        imgplot = plt.imshow(img)\n",
    "        plt.show()\n",
    "        break\n"
   ]
  },
  {
   "cell_type": "code",
   "execution_count": null,
   "id": "f2cc116b",
   "metadata": {},
   "outputs": [],
   "source": []
  }
 ],
 "metadata": {
  "kernelspec": {
   "display_name": "Python 3",
   "language": "python",
   "name": "python3"
  },
  "language_info": {
   "codemirror_mode": {
    "name": "ipython",
    "version": 3
   },
   "file_extension": ".py",
   "mimetype": "text/x-python",
   "name": "python",
   "nbconvert_exporter": "python",
   "pygments_lexer": "ipython3",
   "version": "3.8.8"
  }
 },
 "nbformat": 4,
 "nbformat_minor": 5
}
